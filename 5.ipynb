{
 "cells": [
  {
   "cell_type": "markdown",
   "metadata": {},
   "source": [
    "### 5E1\n",
    "\n",
    "(2) and (4)\n",
    "\n",
    "### 5E2\n",
    "\n",
    "Animal diversity = A\n",
    "\n",
    "Latitude = L\n",
    "\n",
    "Plant diversity = D\n",
    "\n",
    "A  ̸⊥ L | D\n",
    "\n",
    "$A_i = \\alpha + \\beta_l L_i + \\beta_d D_i$\n",
    "\n",
    "### 5E3\n",
    "\n",
    "Funding = F\n",
    "\n",
    "Laboratory size = L\n",
    "\n",
    "PhD completion time = T\n",
    "\n",
    "$T_i = \\alpha + \\beta_l L_i + \\beta_f F_i$\n",
    "\n",
    "Both $\\beta_l$ and $\\beta_f$ should be < 0 since the increases in funding and laboratory size should decrease the amount of time required to complete a PhD.\n",
    "\n",
    "### 5E4\n",
    "\n",
    "(3) and (5) are inferentially equivalent"
   ]
  },
  {
   "cell_type": "code",
   "execution_count": null,
   "metadata": {},
   "outputs": [],
   "source": []
  }
 ],
 "metadata": {
  "kernelspec": {
   "display_name": "Python 3.6.8 64-bit",
   "language": "python",
   "name": "python36864bit042ddaa158d94bd9b1069e9139a8b97d"
  },
  "language_info": {
   "codemirror_mode": {
    "name": "ipython",
    "version": 3
   },
   "file_extension": ".py",
   "mimetype": "text/x-python",
   "name": "python",
   "nbconvert_exporter": "python",
   "pygments_lexer": "ipython3",
   "version": "3.6.8"
  }
 },
 "nbformat": 4,
 "nbformat_minor": 4
}
