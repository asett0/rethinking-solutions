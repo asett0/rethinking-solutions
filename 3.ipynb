{
 "cells": [
  {
   "cell_type": "code",
   "execution_count": 1,
   "metadata": {},
   "outputs": [],
   "source": [
    "import time\n",
    "import pandas as pd\n",
    "import seaborn as sns\n",
    "from functools import reduce\n",
    "\n",
    "import torch\n",
    "import pyro\n",
    "import pyro.distributions as dist\n",
    "import pyro.ops.stats as stats\n",
    "\n",
    "from utils import sample_binomial, posterior_predictive_binomial\n",
    "\n",
    "pyro.set_rng_seed(100)"
   ]
  },
  {
   "cell_type": "code",
   "execution_count": 2,
   "metadata": {},
   "outputs": [
    {
     "data": {
      "image/png": "[encoded data removed]",
      "text/plain": [
       "<Figure size 360x360 with 1 Axes>"
      ]
     },
     "metadata": {
      "needs_background": "light"
     },
     "output_type": "display_data"
    }
   ],
   "source": [
    "# Easy\n",
    "\n",
    "samples = sample_binomial(n=9, k=6, n_steps=1000, n_samples=10000)\n",
    "ax = sns.displot(samples)\n",
    "ax.set(xlabel=\"proportion water (p)\", ylabel=\"Density\");"
   ]
  },
  {
   "cell_type": "code",
   "execution_count": 3,
   "metadata": {},
   "outputs": [
    {
     "data": {
      "text/plain": [
       "tensor(0.0010)"
      ]
     },
     "execution_count": 3,
     "metadata": {},
     "output_type": "execute_result"
    }
   ],
   "source": [
    "# 3E1\n",
    "\n",
    "sum(samples < 0.2) / 1e4"
   ]
  },
  {
   "cell_type": "code",
   "execution_count": 4,
   "metadata": {},
   "outputs": [
    {
     "data": {
      "text/plain": [
       "tensor(0.1166)"
      ]
     },
     "execution_count": 4,
     "metadata": {},
     "output_type": "execute_result"
    }
   ],
   "source": [
    "# 3E2\n",
    "\n",
    "sum(samples > 0.8) / 1e4"
   ]
  },
  {
   "cell_type": "code",
   "execution_count": 5,
   "metadata": {},
   "outputs": [
    {
     "data": {
      "text/plain": [
       "tensor(0.8824)"
      ]
     },
     "execution_count": 5,
     "metadata": {},
     "output_type": "execute_result"
    }
   ],
   "source": [
    "# 3E3\n",
    "\n",
    "sum((samples > 0.2) & (samples < 0.8)) / 1e4"
   ]
  },
  {
   "cell_type": "code",
   "execution_count": 6,
   "metadata": {},
   "outputs": [
    {
     "data": {
      "text/plain": [
       "tensor(0.5155)"
      ]
     },
     "execution_count": 6,
     "metadata": {},
     "output_type": "execute_result"
    }
   ],
   "source": [
    "# 3E4\n",
    "\n",
    "stats.quantile(samples, 0.2)"
   ]
  },
  {
   "cell_type": "code",
   "execution_count": 7,
   "metadata": {},
   "outputs": [
    {
     "data": {
      "text/plain": [
       "tensor(0.7588)"
      ]
     },
     "execution_count": 7,
     "metadata": {},
     "output_type": "execute_result"
    }
   ],
   "source": [
    "# 3E5\n",
    "\n",
    "stats.quantile(samples, 0.8)"
   ]
  },
  {
   "cell_type": "code",
   "execution_count": 8,
   "metadata": {},
   "outputs": [
    {
     "data": {
      "text/plain": [
       "tensor([0.5155, 0.7858])"
      ]
     },
     "execution_count": 8,
     "metadata": {},
     "output_type": "execute_result"
    }
   ],
   "source": [
    "# 3E6\n",
    "\n",
    "stats.hpdi(samples, prob=0.66)"
   ]
  },
  {
   "cell_type": "code",
   "execution_count": 9,
   "metadata": {},
   "outputs": [
    {
     "name": "stdout",
     "output_type": "stream",
     "text": [
      "tensor(0.4965)\n",
      "tensor(0.7718)\n"
     ]
    }
   ],
   "source": [
    "# 3E7\n",
    "\n",
    "print(stats.quantile(samples, 0.17))\n",
    "print(stats.quantile(samples, 0.83))"
   ]
  },
  {
   "cell_type": "code",
   "execution_count": 10,
   "metadata": {},
   "outputs": [
    {
     "data": {
      "image/png": "[encoded data removed]",
      "text/plain": [
       "<Figure size 360x360 with 1 Axes>"
      ]
     },
     "metadata": {
      "needs_background": "light"
     },
     "output_type": "display_data"
    }
   ],
   "source": [
    "# Medium\n",
    "\n",
    "# 3M1\n",
    "samples = sample_binomial(n=15, k=8, n_steps=1000, n_samples=10000)\n",
    "ax = sns.displot(samples)\n",
    "ax.set(xlabel=\"proportion water (p)\", ylabel=\"Density\");"
   ]
  },
  {
   "cell_type": "code",
   "execution_count": 11,
   "metadata": {},
   "outputs": [
    {
     "data": {
      "text/plain": [
       "tensor([0.3353, 0.7197])"
      ]
     },
     "execution_count": 11,
     "metadata": {},
     "output_type": "execute_result"
    }
   ],
   "source": [
    "# 3M2\n",
    "\n",
    "stats.hpdi(samples, prob=0.9)"
   ]
  },
  {
   "cell_type": "code",
   "execution_count": 12,
   "metadata": {},
   "outputs": [
    {
     "name": "stdout",
     "output_type": "stream",
     "text": [
      "Execution took 2.1211700439453125 seconds\n"
     ]
    },
    {
     "name": "stderr",
     "output_type": "stream",
     "text": [
      "/Library/Frameworks/Python.framework/Versions/3.6/lib/python3.6/site-packages/seaborn/distributions.py:2551: FutureWarning: `distplot` is a deprecated function and will be removed in a future version. Please adapt your code to use either `displot` (a figure-level function with similar flexibility) or `histplot` (an axes-level function for histograms).\n",
      "  warnings.warn(msg, FutureWarning)\n"
     ]
    },
    {
     "data": {
      "image/png": "[encoded data removed]",
      "text/plain": [
       "<Figure size 432x288 with 1 Axes>"
      ]
     },
     "metadata": {
      "needs_background": "light"
     },
     "output_type": "display_data"
    }
   ],
   "source": [
    "# 3M3\n",
    "\n",
    "start = time.time()\n",
    "preds = posterior_predictive_binomial(n=15, posterior=samples, n_samples=1000)\n",
    "duration = time.time() - start\n",
    "print(f\"Execution took {duration} seconds\")\n",
    "ax = sns.distplot(preds, kde=False)\n",
    "ax.set(xlabel=\"count\", ylabel=\"Frequency\");"
   ]
  },
  {
   "cell_type": "code",
   "execution_count": 13,
   "metadata": {},
   "outputs": [
    {
     "data": {
      "text/plain": [
       "tensor(0.1469, dtype=torch.float64)"
      ]
     },
     "execution_count": 13,
     "metadata": {},
     "output_type": "execute_result"
    }
   ],
   "source": [
    "sum(preds == 8).double().mean() / 1000"
   ]
  },
  {
   "cell_type": "code",
   "execution_count": 14,
   "metadata": {},
   "outputs": [
    {
     "data": {
      "text/plain": [
       "tensor(0.1778, dtype=torch.float64)"
      ]
     },
     "execution_count": 14,
     "metadata": {},
     "output_type": "execute_result"
    },
    {
     "data": {
      "image/png": "[encoded data removed]",
      "text/plain": [
       "<Figure size 432x288 with 1 Axes>"
      ]
     },
     "metadata": {
      "needs_background": "light"
     },
     "output_type": "display_data"
    }
   ],
   "source": [
    "# 3M4\n",
    "\n",
    "preds = posterior_predictive_binomial(n=9, posterior=samples, n_samples=1000)\n",
    "ax = sns.distplot(preds, kde=False)\n",
    "ax.set(xlabel=\"count\", ylabel=\"Frequency\");\n",
    "\n",
    "sum(preds == 6).double().mean() / 1000"
   ]
  },
  {
   "cell_type": "code",
   "execution_count": 15,
   "metadata": {},
   "outputs": [
    {
     "data": {
      "image/png": "[encoded data removed]",
      "text/plain": [
       "<Figure size 360x360 with 1 Axes>"
      ]
     },
     "metadata": {
      "needs_background": "light"
     },
     "output_type": "display_data"
    }
   ],
   "source": [
    "# 3M5\n",
    "\n",
    "p_grid = torch.linspace(start=0, end=1, steps=1000)\n",
    "prior = torch.cat((torch.tensor(0.).repeat(500), torch.tensor(1.).repeat(500)), -1)\n",
    "likelihood = dist.Binomial(\n",
    "    total_count=15,\n",
    "    probs=p_grid\n",
    ").log_prob(torch.tensor(8.)).exp()\n",
    "posterior = likelihood * prior\n",
    "posterior = posterior / sum(posterior)\n",
    "samples = dist.Empirical(p_grid, posterior.log()).sample(torch.Size([int(1e4)]))\n",
    "\n",
    "ax = sns.displot(samples)\n",
    "ax.set(xlabel=\"proportion water (p)\", ylabel=\"Density\");"
   ]
  },
  {
   "cell_type": "code",
   "execution_count": 16,
   "metadata": {},
   "outputs": [
    {
     "data": {
      "text/plain": [
       "tensor([0.5005, 0.7137])"
      ]
     },
     "execution_count": 16,
     "metadata": {},
     "output_type": "execute_result"
    }
   ],
   "source": [
    "stats.hpdi(samples, prob=0.9)"
   ]
  },
  {
   "cell_type": "code",
   "execution_count": 17,
   "metadata": {},
   "outputs": [
    {
     "name": "stderr",
     "output_type": "stream",
     "text": [
      "/Library/Frameworks/Python.framework/Versions/3.6/lib/python3.6/site-packages/seaborn/distributions.py:2551: FutureWarning: `distplot` is a deprecated function and will be removed in a future version. Please adapt your code to use either `displot` (a figure-level function with similar flexibility) or `histplot` (an axes-level function for histograms).\n",
      "  warnings.warn(msg, FutureWarning)\n"
     ]
    },
    {
     "data": {
      "text/plain": [
       "tensor(0.1569, dtype=torch.float64)"
      ]
     },
     "execution_count": 17,
     "metadata": {},
     "output_type": "execute_result"
    },
    {
     "data": {
      "image/png": "[encoded data removed]",
      "text/plain": [
       "<Figure size 432x288 with 1 Axes>"
      ]
     },
     "metadata": {
      "needs_background": "light"
     },
     "output_type": "display_data"
    }
   ],
   "source": [
    "preds = posterior_predictive_binomial(n=15, posterior=samples, n_samples=1000)\n",
    "ax = sns.distplot(preds, kde=False)\n",
    "ax.set(xlabel=\"count\", ylabel=\"Frequency\");\n",
    "\n",
    "sum(preds == 8).double().mean() / 1000"
   ]
  },
  {
   "cell_type": "code",
   "execution_count": 18,
   "metadata": {},
   "outputs": [
    {
     "data": {
      "text/plain": [
       "tensor(0.2319, dtype=torch.float64)"
      ]
     },
     "execution_count": 18,
     "metadata": {},
     "output_type": "execute_result"
    },
    {
     "data": {
      "image/png": "[encoded data removed]",
      "text/plain": [
       "<Figure size 432x288 with 1 Axes>"
      ]
     },
     "metadata": {
      "needs_background": "light"
     },
     "output_type": "display_data"
    }
   ],
   "source": [
    "preds = posterior_predictive_binomial(n=9, posterior=samples, n_samples=1000)\n",
    "ax = sns.distplot(preds, kde=False)\n",
    "ax.set(xlabel=\"count\", ylabel=\"Frequency\");\n",
    "\n",
    "sum(preds == 6).double().mean() / 1000"
   ]
  },
  {
   "cell_type": "code",
   "execution_count": 19,
   "metadata": {},
   "outputs": [],
   "source": [
    "# 3M6\n",
    "\n",
    "# ???"
   ]
  },
  {
   "cell_type": "code",
   "execution_count": 20,
   "metadata": {},
   "outputs": [],
   "source": [
    "# Hard\n",
    "\n",
    "# 3H1\n",
    "\n",
    "birth1 = torch.tensor([1,0,0,0,1,1,0,1,0,1,0,0,1,1,0,1,1,0,0,0,1,0,0,0,1,0,0,0,0,1,1,1,0,1,0,1,1,1,0,1,0,1,1,0,1,0,0,1,1,0,1,0,0,0,0,0,0,0,1,1,0,1,0,0,1,0,0,0,1,0,0,1,1,1,1,0,1,0,1,1,1,1,1,0,0,1,0,1,1,0,1,0,1,1,1,0,1,1,1,1])\n",
    "birth2 = torch.tensor([0,1,0,1,0,1,1,1,0,0,1,1,1,1,1,0,0,1,1,1,0,0,1,1,1,0,1,1,1,0,1,1,1,0,1,0,0,1,1,1,1,0,0,1,0,1,1,1,1,1,1,1,1,1,1,1,1,1,1,1,1,0,1,1,0,1,1,0,1,1,1,0,0,0,0,0,0,1,0,0,0,1,1,0,0,1,0,0,1,1,0,0,0,1,1,1,0,0,0,0])"
   ]
  },
  {
   "cell_type": "code",
   "execution_count": 21,
   "metadata": {},
   "outputs": [
    {
     "name": "stdout",
     "output_type": "stream",
     "text": [
      "tensor(0.5546)\n"
     ]
    }
   ],
   "source": [
    "p_grid = torch.linspace(start=0, end=1, steps=1000)\n",
    "prior = torch.tensor(1.).repeat(1000)\n",
    "likelihood = dist.Binomial(\n",
    "    total_count=len(birth1) + len(birth2),\n",
    "    probs=p_grid,\n",
    ").log_prob((torch.sum(birth1) + torch.sum(birth2)).float()).exp()\n",
    "\n",
    "posterior = likelihood * prior\n",
    "posterior = posterior / sum(posterior)\n",
    "\n",
    "print(p_grid[torch.argmax(posterior)])"
   ]
  },
  {
   "cell_type": "code",
   "execution_count": 22,
   "metadata": {},
   "outputs": [
    {
     "name": "stdout",
     "output_type": "stream",
     "text": [
      "tensor([0.5305, 0.5766])\n",
      "tensor([0.5015, 0.6116])\n",
      "tensor([0.4815, 0.6306])\n"
     ]
    },
    {
     "data": {
      "image/png": "[encoded data removed]",
      "text/plain": [
       "<Figure size 360x360 with 1 Axes>"
      ]
     },
     "metadata": {
      "needs_background": "light"
     },
     "output_type": "display_data"
    }
   ],
   "source": [
    "# 3H2\n",
    "\n",
    "samples = dist.Empirical(p_grid, posterior.log()).sample(torch.Size([int(1e4)]))\n",
    "\n",
    "ax = sns.displot(samples)\n",
    "ax.set(xlabel=\"Male birth (p)\", ylabel=\"Density\");\n",
    "\n",
    "print(stats.hpdi(samples, prob=0.5))\n",
    "print(stats.hpdi(samples, prob=0.89))\n",
    "print(stats.hpdi(samples, prob=0.97))"
   ]
  },
  {
   "cell_type": "code",
   "execution_count": 34,
   "metadata": {},
   "outputs": [
    {
     "data": {
      "image/png": "[encoded data removed]",
      "text/plain": [
       "<Figure size 432x288 with 1 Axes>"
      ]
     },
     "metadata": {
      "needs_background": "light"
     },
     "output_type": "display_data"
    }
   ],
   "source": [
    "# 3H3\n",
    "\n",
    "preds = posterior_predictive_binomial(200, samples, float(1))\n",
    "\n",
    "ax = sns.distplot(preds, kde=False)\n",
    "ax.set(xlabel=\"count\", ylabel=\"Frequency\");\n",
    "\n",
    "# Does not look like there is a 'central/likely' outcome from the distribution."
   ]
  },
  {
   "cell_type": "code",
   "execution_count": 36,
   "metadata": {},
   "outputs": [
    {
     "data": {
      "image/png": "[encoded data removed]",
      "text/plain": [
       "<Figure size 432x288 with 1 Axes>"
      ]
     },
     "metadata": {
      "needs_background": "light"
     },
     "output_type": "display_data"
    }
   ],
   "source": [
    "# 3H4\n",
    "\n",
    "posterior_predictions = dist.Binomial(\n",
    "    total_count=100,\n",
    "    probs=samples\n",
    ").sample(torch.Size([int(1)])).long()\n",
    "\n",
    "ax = sns.distplot(posterior_predictions, kde=False)\n",
    "ax.set(xlabel=\"count\", ylabel=\"Frequency\");"
   ]
  },
  {
   "cell_type": "code",
   "execution_count": 26,
   "metadata": {},
   "outputs": [
    {
     "data": {
      "image/png": "[encoded data removed]",
      "text/plain": [
       "<Figure size 432x288 with 1 Axes>"
      ]
     },
     "metadata": {
      "needs_background": "light"
     },
     "output_type": "display_data"
    }
   ],
   "source": [
    "samples = sample_binomial(n=len(birth1), k=float(sum(birth1)), n_steps=1000, n_samples=10000)\n",
    "preds = posterior_predictive_binomial(n=100, posterior=samples, n_samples=1)\n",
    "\n",
    "ax = sns.distplot(posterior_predictions, kde=False)\n",
    "ax.set(xlabel=\"count\", ylabel=\"Frequency\");"
   ]
  },
  {
   "cell_type": "code",
   "execution_count": 27,
   "metadata": {},
   "outputs": [
    {
     "name": "stdout",
     "output_type": "stream",
     "text": [
      "tensor(49)\n",
      "tensor(39)\n"
     ]
    }
   ],
   "source": [
    "# 3H5\n",
    "\n",
    "first_born_girls = torch.sum(torch.abs(1 - birth1))\n",
    "print(first_born_girls)\n",
    "\n",
    "boys_after_girls = torch.sum(torch.abs(1 - birth1) * birth2)\n",
    "print(boys_after_girls)"
   ]
  },
  {
   "cell_type": "code",
   "execution_count": 32,
   "metadata": {},
   "outputs": [
    {
     "data": {
      "image/png": "[encoded data removed]",
      "text/plain": [
       "<Figure size 432x288 with 1 Axes>"
      ]
     },
     "metadata": {
      "needs_background": "light"
     },
     "output_type": "display_data"
    }
   ],
   "source": [
    "first_girls = sample_binomial(100, 49, int(1e3), int(1e4))\n",
    "preds = posterior_predictive_binomial(n=100, posterior=first_girls, n_samples=1)\n",
    "\n",
    "ax = sns.distplot(preds, kde=False)\n",
    "ax.set(xlabel=\"count\", ylabel=\"Frequency\");"
   ]
  },
  {
   "cell_type": "code",
   "execution_count": null,
   "metadata": {},
   "outputs": [],
   "source": []
  }
 ],
 "metadata": {
  "kernelspec": {
   "display_name": "Python 3",
   "language": "python",
   "name": "python3"
  },
  "language_info": {
   "codemirror_mode": {
    "name": "ipython",
    "version": 3
   },
   "file_extension": ".py",
   "mimetype": "text/x-python",
   "name": "python",
   "nbconvert_exporter": "python",
   "pygments_lexer": "ipython3",
   "version": "3.6.8"
  }
 },
 "nbformat": 4,
 "nbformat_minor": 4
}
