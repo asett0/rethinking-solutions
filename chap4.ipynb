{
 "cells": [
  {
   "cell_type": "markdown",
   "metadata": {},
   "source": [
    "# Chapter 4 Exercises"
   ]
  },
  {
   "cell_type": "markdown",
   "metadata": {},
   "source": [
    "## 4E1"
   ]
  },
  {
   "cell_type": "markdown",
   "metadata": {},
   "source": [
    "First line."
   ]
  },
  {
   "cell_type": "markdown",
   "metadata": {},
   "source": [
    "## 4E2"
   ]
  },
  {
   "cell_type": "markdown",
   "metadata": {},
   "source": [
    "2 parameters"
   ]
  },
  {
   "cell_type": "markdown",
   "metadata": {},
   "source": [
    "## 4E3"
   ]
  },
  {
   "cell_type": "markdown",
   "metadata": {},
   "source": [
    "$$ Pr(\\mu, \\sigma | \\gamma) =  \\frac{ \\prod_i P(\\gamma_i | \\mu, \\sigma) Pr(\\mu, \\sigma)}{\\int_{-\\infty}^{\\infty} \\int_{0}^{\\infty} \\prod_i P(\\gamma_i | \\mu, \\sigma) Pr(\\mu, \\sigma) d_\\sigma d_\\mu}$$\n",
    "\n",
    "where observations are considered independent from one another and where the likelehood is given by\n",
    "\n",
    "$$Pr(\\gamma_i | \\mu, \\sigma) = Norm(\\mu, \\sigma)$$\n",
    "\n",
    "and $\\mu$ and $\\sigma$ are assumed to be independent from each other. Hence for the prior we have\n",
    "\n",
    "$$\n",
    "   Pr(\\mu, \\sigma) = Pr(\\mu)Pr(\\sigma) \\\\\n",
    "   Pr(\\mu) = Norm(0, 10) \\\\\n",
    "   Pr(\\sigma) = Exp(1)\n",
    "$$"
   ]
  },
  {
   "cell_type": "markdown",
   "metadata": {},
   "source": [
    "## 4E5"
   ]
  },
  {
   "cell_type": "markdown",
   "metadata": {},
   "source": [
    "Second line."
   ]
  },
  {
   "cell_type": "markdown",
   "metadata": {},
   "source": [
    "3 parameters"
   ]
  },
  {
   "cell_type": "code",
   "execution_count": null,
   "metadata": {},
   "outputs": [],
   "source": []
  }
 ],
 "metadata": {
  "kernelspec": {
   "display_name": "Python 3",
   "language": "python",
   "name": "python3"
  },
  "language_info": {
   "codemirror_mode": {
    "name": "ipython",
    "version": 3
   },
   "file_extension": ".py",
   "mimetype": "text/x-python",
   "name": "python",
   "nbconvert_exporter": "python",
   "pygments_lexer": "ipython3",
   "version": "3.8.5"
  }
 },
 "nbformat": 4,
 "nbformat_minor": 4
}
