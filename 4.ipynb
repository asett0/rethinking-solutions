{
 "cells": [
  {
   "cell_type": "markdown",
   "metadata": {},
   "source": [
    "### 4E1\n",
    "\n",
    "y ~ Normal(mu, sigma)\n",
    "\n",
    "### 4E2\n",
    "\n",
    "Two parameters\n",
    "\n",
    "### 4E3\n",
    "\n",
    "$y_i \\sim \\rm{Normal}(\\mu, \\sigma)$\n",
    "\n",
    "$\\mu \\sim \\rm{Normal}(0, 10)$\n",
    "\n",
    "$\\sigma \\sim \\rm{Exponential}(1)$\n",
    "\n",
    "$P(y | \\mu{}, \\sigma{})=\\frac{\\rm{Normal}(y | \\mu{}, \\sigma{})\\rm{Normal}(\\mu{} | 0, 10)\\rm{Exponential}(\\sigma | 1)}{\\int{\\rm{Normal}(y | \\mu{}, \\sigma{})\\rm{Normal}(\\mu{} | 0, 10)\\rm{Exponential}(\\sigma | 1)}dy}$\n",
    "\n",
    "### 4E4\n",
    "\n",
    "Second line\n",
    "\n",
    "### 4E5\n",
    "\n",
    "Four parameters ($\\mu{}, \\alpha{}, \\beta{}, \\sigma{}$)"
   ]
  },
  {
   "cell_type": "code",
   "execution_count": null,
   "metadata": {},
   "outputs": [],
   "source": [
    "# 4M1\n",
    "\n"
   ]
  }
 ],
 "metadata": {
  "kernelspec": {
   "display_name": "Python 3",
   "language": "python",
   "name": "python3"
  },
  "language_info": {
   "codemirror_mode": {
    "name": "ipython",
    "version": 3
   },
   "file_extension": ".py",
   "mimetype": "text/x-python",
   "name": "python",
   "nbconvert_exporter": "python",
   "pygments_lexer": "ipython3",
   "version": "3.8.2"
  }
 },
 "nbformat": 4,
 "nbformat_minor": 4
}
